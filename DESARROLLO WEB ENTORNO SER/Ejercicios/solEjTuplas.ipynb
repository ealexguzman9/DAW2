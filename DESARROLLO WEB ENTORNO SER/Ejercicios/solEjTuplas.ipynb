{
 "cells": [
  {
   "cell_type": "code",
   "execution_count": 2,
   "metadata": {},
   "outputs": [],
   "source": [
    "# 1. Crear inventario\n",
    "inventario = [\n",
    "    (\"Cien Años de Soledad\", \"Gabriel García Márquez\", 1967, 15.99, True),\n",
    "    (\"Don Quijote\", \"Miguel de Cervantes\", 1605, 12.50, False),\n",
    "    (\"1984\", \"George Orwell\", 1949, 9.99, True),\n",
    "    (\"El Principito\", \"Antoine de Saint-Exupéry\", 1943, 6.75, True),\n",
    "    (\"Fahrenheit 451\", \"Ray Bradbury\", 1953, 8.99, False)\n",
    "]"
   ]
  },
  {
   "cell_type": "code",
   "execution_count": 3,
   "metadata": {},
   "outputs": [
    {
     "name": "stdout",
     "output_type": "stream",
     "text": [
      "Libros disponibles:\n",
      "Cien Años de Soledad\n",
      "1984\n",
      "El Principito\n"
     ]
    }
   ],
   "source": [
    "# 2. Buscar libros disponibles\n",
    "print(\"Libros disponibles:\")\n",
    "for libro in inventario:\n",
    "    if libro[4] == True:  # Disponibilidad es el quinto elemento en la tupla\n",
    "        print(libro[0])   # Título es el primer elemento en la tupla"
   ]
  },
  {
   "cell_type": "code",
   "execution_count": 4,
   "metadata": {},
   "outputs": [
    {
     "name": "stdout",
     "output_type": "stream",
     "text": [
      "\n",
      "Libros en el rango de precio:\n",
      "Don Quijote\n",
      "1984\n",
      "Fahrenheit 451\n"
     ]
    }
   ],
   "source": [
    "# 3. Filtrar libros por rango de precios\n",
    "min_precio = 7.00\n",
    "max_precio = 13.00\n",
    "libros_en_rango = []\n",
    "for libro in inventario:\n",
    "    if min_precio <= libro[3] <= max_precio:  # Precio es el cuarto elemento\n",
    "        libros_en_rango.append(libro)\n",
    "\n",
    "print(\"\\nLibros en el rango de precio:\")\n",
    "for libro in libros_en_rango:\n",
    "    print(libro[0])"
   ]
  },
  {
   "cell_type": "code",
   "execution_count": 5,
   "metadata": {},
   "outputs": [],
   "source": [
    "# 4. Actualizar disponibilidad de un libro\n",
    "titulo_a_cambiar = \"1984\"\n",
    "nueva_disponibilidad = False\n",
    "encontrado = False\n",
    "'''\n",
    "Este código cambia la tupla 'libro' pero no cambia la tupla correspondiente de 'inventario' \n",
    "for libro in inventario:\n",
    "    if (libro[0] == titulo_a_cambiar):\n",
    "        libro = libro[:4] + (nueva_disponibilidad,)\n",
    "'''\n",
    "for i in range(len(inventario)):\n",
    "    if inventario[i][0] == titulo_a_cambiar:  # Título es el primer elemento\n",
    "        inventario[i] = inventario[i][:4] + (nueva_disponibilidad,)  # Modificar la disponibilidad\n",
    "        encontrado = True\n",
    "        break\n",
    "if not encontrado:\n",
    "    print(f\"\\nEl libro '{titulo_a_cambiar}' no se encontró en el inventario.\")"
   ]
  },
  {
   "cell_type": "code",
   "execution_count": 6,
   "metadata": {},
   "outputs": [
    {
     "name": "stdout",
     "output_type": "stream",
     "text": [
      "[('Cien Años de Soledad', 'Gabriel García Márquez', 1967, 15.99, True), ('Don Quijote', 'Miguel de Cervantes', 1605, 12.5, False), ('1984', 'George Orwell', 1949, 9.99, False), ('El Principito', 'Antoine de Saint-Exupéry', 1943, 6.75, True), ('Fahrenheit 451', 'Ray Bradbury', 1953, 8.99, False)]\n"
     ]
    }
   ],
   "source": [
    "print(inventario)"
   ]
  },
  {
   "cell_type": "code",
   "execution_count": 7,
   "metadata": {},
   "outputs": [
    {
     "name": "stdout",
     "output_type": "stream",
     "text": [
      "[('Cien Años de Soledad', 'Gabriel García Márquez', 1967, 15.99, True), ('1984', 'George Orwell', 1949, 9.99, False), ('El Principito', 'Antoine de Saint-Exupéry', 1943, 6.75, True), ('Fahrenheit 451', 'Ray Bradbury', 1953, 8.99, False)]\n"
     ]
    }
   ],
   "source": [
    "# 5. Eliminar un libro\n",
    "titulo_a_eliminar = \"Don Quijote\"\n",
    "eliminado = False\n",
    "for libro in inventario:\n",
    "    if libro[0] == titulo_a_eliminar:\n",
    "        inventario.remove(libro)\n",
    "        eliminado = True\n",
    "        break\n",
    "if not eliminado:\n",
    "    print(f\"\\nEl libro '{titulo_a_eliminar}' no se encontró en el inventario.\")\n",
    "\n",
    "print(inventario)"
   ]
  },
  {
   "cell_type": "code",
   "execution_count": 8,
   "metadata": {},
   "outputs": [
    {
     "name": "stdout",
     "output_type": "stream",
     "text": [
      "x:  [1, 1]\n",
      "\n",
      "Resumen del inventario:\n",
      "Total de libros: 4\n",
      "Libros disponibles: 2\n",
      "Precio promedio: 10.43\n"
     ]
    }
   ],
   "source": [
    "# 6. Mostrar resumen del inventario\n",
    "# sum -> Sums the items of an iterator\n",
    "total_libros = len(inventario)\n",
    "x = [1 for libro in inventario if libro[4]]\n",
    "print(\"x: \",x)\n",
    "libros_disponibles = sum(x)\n",
    "precio_promedio = sum(libro[3] for libro in inventario) / total_libros if total_libros > 0 else 0\n",
    "\n",
    "print(f\"\\nResumen del inventario:\")\n",
    "print(f\"Total de libros: {total_libros}\")\n",
    "print(f\"Libros disponibles: {libros_disponibles}\")\n",
    "print(f\"Precio promedio: {precio_promedio:.2f}\")"
   ]
  }
 ],
 "metadata": {
  "kernelspec": {
   "display_name": "Python 3",
   "language": "python",
   "name": "python3"
  },
  "language_info": {
   "codemirror_mode": {
    "name": "ipython",
    "version": 3
   },
   "file_extension": ".py",
   "mimetype": "text/x-python",
   "name": "python",
   "nbconvert_exporter": "python",
   "pygments_lexer": "ipython3",
   "version": "3.12.6"
  }
 },
 "nbformat": 4,
 "nbformat_minor": 2
}
