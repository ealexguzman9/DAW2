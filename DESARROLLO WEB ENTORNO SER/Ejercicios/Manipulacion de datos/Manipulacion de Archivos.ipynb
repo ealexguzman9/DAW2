{
 "cells": [
  {
   "cell_type": "markdown",
   "id": "2edc888f",
   "metadata": {},
   "source": [
    "## ABRIR UN FICHERO\n",
    "### Si lo abrimos con <i>with</i> el archivo se cierra automáticamente al terminar el bloque <i>with</i>."
   ]
  },
  {
   "cell_type": "code",
   "execution_count": 3,
   "id": "52c45c39",
   "metadata": {},
   "outputs": [
    {
     "name": "stdout",
     "output_type": "stream",
     "text": [
      "<_io.TextIOWrapper name='curso.txt' mode='r' encoding='cp1252'>\n"
     ]
    }
   ],
   "source": [
    "# CREAR UN ARCHVO 'curso.txt' en la carpeta en la que habéis creado este Notebook, \n",
    "# abrirlo y escribir algo de texto.\n",
    "with open('curso.txt') as f:\n",
    "    print(f)\n",
    "# La apertura predeterminada es en modo solo lectura."
   ]
  },
  {
   "cell_type": "code",
   "execution_count": 4,
   "id": "c349123e",
   "metadata": {},
   "outputs": [
    {
     "name": "stdout",
     "output_type": "stream",
     "text": [
      "Vamos a leer el archivo\n",
      "\n"
     ]
    }
   ],
   "source": [
    "# Para leer el archivo.\n",
    "# Si queremos tener todo el contenido del archivo en una sola cadena de caracteres:\n",
    "with open('curso.txt') as f:\n",
    "    contenido = f.read()\n",
    "print(contenido)"
   ]
  },
  {
   "cell_type": "code",
   "execution_count": 7,
   "id": "f74d8f7a",
   "metadata": {},
   "outputs": [
    {
     "name": "stdout",
     "output_type": "stream",
     "text": [
      "njnjnjnjn\n",
      "\n"
     ]
    }
   ],
   "source": [
    "# si queremos diferenciar las líneas:\n",
    "with open('curso.txt') as f:\n",
    "    lines = f.readlines() # devuelve una lista en la que cada elemento es una línea.\n",
    "print(lines[1])    "
   ]
  },
  {
   "cell_type": "code",
   "execution_count": 11,
   "id": "8a1dde76",
   "metadata": {},
   "outputs": [
    {
     "name": "stdout",
     "output_type": "stream",
     "text": [
      "Vamos a leer el archivo\n",
      "njnjnjnjn\n",
      "Ã±lÃ±lÃ±lÃ±lÃ±\n",
      "oioioioio CONTENIDO AÑADIDO en la última línea\n",
      "CONTENIDO AÑADIDO en nueva línea"
     ]
    }
   ],
   "source": [
    "# si quiero leer las líneas una a una, sin cargar todo en memoria, \n",
    "# y procesar las líneas una tras otra:\n",
    "with open('curso.txt') as f:\n",
    "    for line in f:\n",
    "        print(line, end='') # cada línea ya termina con salto de línea, poner end='' para \n",
    "                            # que el print no añada otro salto de línea."
   ]
  },
  {
   "cell_type": "code",
   "execution_count": 10,
   "id": "e3679f7a",
   "metadata": {},
   "outputs": [],
   "source": [
    "# PARA ESCRIBIR EN UN ARCHIVO\n",
    "# - usamos el parámtero 'a' de 'append' si queremos añadir contenido a un archivo existente.\n",
    "# - usamos el parámetro 'w' de 'write' si queremos reemplazar el contenido de un archivo existente.\n",
    "# SI NO EXISTE EL ARCHIVO, SE CREARÁ EN AMBOS CASOS\n",
    "with open('curso.txt', 'a') as f:\n",
    "    f.write(\" CONTENIDO AÑADIDO en la última línea\")\n",
    "    f.write(\"\\nCONTENIDO AÑADIDO en nueva línea\")\n",
    "# AHORA ABRIR EL ARCHIVO Y VER EL CONTENIDO."
   ]
  },
  {
   "cell_type": "code",
   "execution_count": 23,
   "id": "be93f3f2",
   "metadata": {},
   "outputs": [],
   "source": [
    "# AHORA VAMOS A MODIFICAR EL CONTENIDO\n",
    "# VAMOS A ESCRIBIR USANDO LISTA DE STRINGS\n",
    "cadena1 = 'Esta es la primera nueva cadena. '\n",
    "cadena2 = 'Esta es la segunda nueva cadena con salto de línea.\\n'\n",
    "cadena3 = 'Esta es la tercera nueva cadena.'\n",
    "lCadenas = [cadena1, cadena2, cadena3]\n",
    "with open('curso.txt', 'w') as f:\n",
    "    f.writelines(lCadenas)\n",
    "# AHORA ABRIR EL ARCHIVO Y VER EL CONTENIDO"
   ]
  },
  {
   "cell_type": "markdown",
   "id": "7db25378",
   "metadata": {},
   "source": [
    "## Comparar dos archivos\n",
    "### Módulo difflib: https://docs.python.org/es/3/library/difflib.html\n",
    "### Clase Differ:\n",
    "#### Se utiliza para comparar las líneas de dos secuencias de caracteres (textos) y obtener las diferencias.\n",
    "#### La salida devuelve varias secuencias de caracteres con el siguiente significado:\n",
    "#### - El carácter '-' al comienzo de una línea indica que dicha línea aparece sólo en el primer texto.\n",
    "#### - El carácter '+' al comienzo de una línea indica que dicha línea aparece sólo en el segundo texto.\n",
    "#### - El carácter de espacio en blanco al comienzo de una línea indica que aparece en ambos textos.\n",
    "#### - El carácter '?' al comienzo de una línea muestra con cierto detalle las diferencias."
   ]
  },
  {
   "cell_type": "code",
   "execution_count": 26,
   "id": "9a03f6e4",
   "metadata": {},
   "outputs": [
    {
     "name": "stdout",
     "output_type": "stream",
     "text": [
      "- mi nombre es Pepe\n",
      "\n",
      "?                ^^\n",
      "\n",
      "+ mi nombre es Pedro\n",
      "\n",
      "?                ^^^\n",
      "\n",
      "+ vivo en Pamplona\n",
      "- vivo en Vitoria\n",
      "\n",
      "- tengo coche\n"
     ]
    }
   ],
   "source": [
    "# crear dos archivos: 'a1.txt' y 'a2.txt'\n",
    "# a1 con tres líneas\n",
    "#   mi nombre es Pepe\n",
    "#   vivo en Vitoria\n",
    "#   tengo coche\n",
    "# a2 con dos líneas\n",
    "#   mi nombre es Pedro\n",
    "#   vivo en Pamplona\n",
    "# AHORA VAMOS A COMPARARLOS\n",
    "from difflib import Differ \n",
    "\n",
    "with open('a1.txt') as f:  \n",
    "    a1 = f.readlines()\n",
    "    \n",
    "with open('a2.txt') as f:  \n",
    "    a2 = f.readlines()\n",
    "\n",
    "difL = list(Differ().compare(a1, a2))\n",
    "for dif in difL:\n",
    "    print(dif)"
   ]
  },
  {
   "cell_type": "markdown",
   "id": "8c3191c1",
   "metadata": {},
   "source": [
    "## Archivos CSV\n",
    "#### CSV es la abreviatura de Comma Separated Values y es, en su origen, un archivo de texto que contiene datos separados por comas."
   ]
  },
  {
   "cell_type": "code",
   "execution_count": 12,
   "id": "2bb2631c",
   "metadata": {},
   "outputs": [],
   "source": [
    "#MÓDULO CSV\n",
    "import csv"
   ]
  },
  {
   "cell_type": "markdown",
   "id": "69422c20",
   "metadata": {},
   "source": [
    "### Método READER\n",
    "#### Retorna un objeto reader que iterará sobre las líneas del archivo csv proporcionado. Cada fila leída del archivo csv es retornada como una lista de cadenas.\n",
    "#### https://docs.python.org/es/3/library/csv.html"
   ]
  },
  {
   "cell_type": "code",
   "execution_count": 13,
   "id": "5ca3ed51",
   "metadata": {},
   "outputs": [
    {
     "name": "stdout",
     "output_type": "stream",
     "text": [
      "['Comunidades y Ciudades Autónomas', 'Provincias', 'Total']\n",
      "['Andalucía', 'Almería', '727.945']\n"
     ]
    }
   ],
   "source": [
    "with open('pobl_caYprov.csv') as f:\n",
    "    datas = csv.reader(f,delimiter = '\\t')  \n",
    "    print(next(datas))\n",
    "    print(next(datas))"
   ]
  },
  {
   "cell_type": "code",
   "execution_count": 22,
   "id": "9f7128b7",
   "metadata": {},
   "outputs": [
    {
     "name": "stdout",
     "output_type": "stream",
     "text": [
      "[['Comunidades y Ciudades Autónomas', 'Provincias', 'Total'], ['Andalucía', 'Almería', '727.945']]\n"
     ]
    }
   ],
   "source": [
    "with open('pobl_caYprov.csv') as f:\n",
    "    lDatos = list(csv.reader(f,delimiter = '\\t'))\n",
    "    print(lDatos[:2])\n"
   ]
  },
  {
   "cell_type": "code",
   "execution_count": 28,
   "id": "253979e5",
   "metadata": {},
   "outputs": [
    {
     "name": "stdout",
     "output_type": "stream",
     "text": [
      "[{'Comunidades y Ciudades Autónomas': 'Andalucía', 'Provincias': 'Almería', 'Total': '727.945'}, {'Comunidades y Ciudades Autónomas': 'Andalucía', 'Provincias': 'Almería', 'Total': '716.820'}]\n"
     ]
    }
   ],
   "source": [
    "# DictReader\n",
    "with open('pobl_caYprov.csv') as f:\n",
    "    ldDatos = list(csv.DictReader(f,delimiter = '\\t'))\n",
    "    print(ldDatos[:2])"
   ]
  },
  {
   "cell_type": "code",
   "execution_count": 47,
   "id": "d719ff70",
   "metadata": {},
   "outputs": [
    {
     "name": "stdout",
     "output_type": "stream",
     "text": [
      "[{'Comunidades y Ciudades Autónomas': 'Andalucía', 'Provincias': 'Almería', 'Total': '727.945'}, {'Comunidades y Ciudades Autónomas': 'Andalucía', 'Provincias': 'Almería', 'Total': '716.820'}, {'Comunidades y Ciudades Autónomas': 'Andalucía', 'Provincias': 'Cádiz', 'Total': '1.244.049'}, {'Comunidades y Ciudades Autónomas': 'Andalucía', 'Provincias': 'Cádiz', 'Total': '1.240.155'}, {'Comunidades y Ciudades Autónomas': 'Andalucía', 'Provincias': 'Córdoba', 'Total': '781.451'}, {'Comunidades y Ciudades Autónomas': 'Andalucía', 'Provincias': 'Córdoba', 'Total': '782.979'}, {'Comunidades y Ciudades Autónomas': 'Andalucía', 'Provincias': 'Granada', 'Total': '919.168'}, {'Comunidades y Ciudades Autónomas': 'Andalucía', 'Provincias': 'Granada', 'Total': '914.678'}, {'Comunidades y Ciudades Autónomas': 'Andalucía', 'Provincias': 'Huelva', 'Total': '524.278'}, {'Comunidades y Ciudades Autónomas': 'Andalucía', 'Provincias': 'Huelva', 'Total': '521.870'}, {'Comunidades y Ciudades Autónomas': 'Andalucía', 'Provincias': 'Jaén', 'Total': '631.381'}, {'Comunidades y Ciudades Autónomas': 'Andalucía', 'Provincias': 'Jaén', 'Total': '633.564'}, {'Comunidades y Ciudades Autónomas': 'Andalucía', 'Provincias': 'Málaga', 'Total': '1.685.920'}, {'Comunidades y Ciudades Autónomas': 'Andalucía', 'Provincias': 'Málaga', 'Total': '1.661.785'}, {'Comunidades y Ciudades Autónomas': 'Andalucía', 'Provincias': 'Sevilla', 'Total': '1.950.219'}, {'Comunidades y Ciudades Autónomas': 'Andalucía', 'Provincias': 'Sevilla', 'Total': '1.942.389'}]\n"
     ]
    }
   ],
   "source": [
    "# Por ejemplo, para encontrar el listado de Provincias pertenecientes a la comunidad autónoma de Andalucía\n",
    "listaProvinciasAndaluzas = []\n",
    "for dDatos in ldDatos:\n",
    "    if 'Andalucía' in dDatos.values():\n",
    "        listaProvinciasAndaluzas.append(dDatos)\n",
    "print(listaProvinciasAndaluzas)"
   ]
  },
  {
   "cell_type": "markdown",
   "id": "929ccefb",
   "metadata": {},
   "source": [
    "## Ejercicio 1\n",
    "### Hacer un programa que escriba un diccionario Python en un archivo csv (crear \"temporal.csv\"). Después de escribir el archivo CSV (incluyendo la cabecera), leer el archivo CSV y mostrar el contenido (por filas)."
   ]
  },
  {
   "cell_type": "code",
   "execution_count": null,
   "id": "4ad0db42",
   "metadata": {},
   "outputs": [],
   "source": [
    "# csv_columns = ['id','Columna1', 'Columna2', 'Columna3', 'Columna4']\n",
    "# meter tes filas de datos (nuéricos y/o strings)"
   ]
  },
  {
   "cell_type": "markdown",
   "id": "c87173df",
   "metadata": {},
   "source": [
    "## Ejercicio 2\n",
    "### Escribir un programa que lea cada fila de un archivo csv determinado ('pobl_caYprov.csv') y omita el encabezado del archivo. Imprimir también el número de filas y los nombres de los campos."
   ]
  },
  {
   "cell_type": "markdown",
   "id": "c9771e57",
   "metadata": {},
   "source": [
    "## Archivos JSON\n",
    "### JSON es el acrónimo de JavaScript Object Notation\n",
    "### https://docs.python.org/es/3/library/json.html"
   ]
  },
  {
   "cell_type": "code",
   "execution_count": 50,
   "id": "f06a47d1",
   "metadata": {},
   "outputs": [],
   "source": [
    "# MÓDULO JSON\n",
    "import json"
   ]
  },
  {
   "cell_type": "markdown",
   "id": "0e34fda0",
   "metadata": {},
   "source": [
    "### Método json.loads() ; json.load()\n",
    "### json.load is for file-like objects, and json.loads is for strings"
   ]
  },
  {
   "cell_type": "code",
   "execution_count": 53,
   "id": "8202c19f",
   "metadata": {},
   "outputs": [
    {
     "name": "stdout",
     "output_type": "stream",
     "text": [
      "edad z: 30\n",
      "edad y: 30\n"
     ]
    }
   ],
   "source": [
    "# Convertir de JSON a Python - método json.loads().\n",
    "# cadena JSON: es una cadena de caracteres\n",
    "x =  '{ \"name\":\"John\", \"age\":30, \"city\":\"New York\"}'\n",
    "# print(x[\"age\"]) # error\n",
    "z =  { \"name\":\"John\", \"age\":30, \"city\":\"New York\"}\n",
    "print('edad z:',z[\"age\"])\n",
    "# parse x:\n",
    "y = json.loads(x)\n",
    "\n",
    "# the result is a Python dictionary:\n",
    "print('edad y:', y[\"age\"])"
   ]
  },
  {
   "cell_type": "markdown",
   "id": "63d02390",
   "metadata": {},
   "source": [
    "### Método json.dumps()"
   ]
  },
  {
   "cell_type": "code",
   "execution_count": 58,
   "id": "d0378c31",
   "metadata": {},
   "outputs": [
    {
     "name": "stdout",
     "output_type": "stream",
     "text": [
      "x: {'name': 'John', 'age': 30, 'city': 'New York'}\n",
      "<class 'dict'>\n",
      "y: {\"name\": \"John\", \"age\": 30, \"city\": \"New York\"}\n",
      "<class 'str'>\n"
     ]
    }
   ],
   "source": [
    "# Convertir de Python a JSON - método json.dumps()\n",
    "# a Python object (dict):\n",
    "x = {\n",
    "  \"name\": \"John\",\n",
    "  \"age\": 30,\n",
    "  \"city\": \"New York\"\n",
    "}\n",
    "print('x:',x)\n",
    "print(type(x))\n",
    "# convert into JSON:\n",
    "y = json.dumps(x)\n",
    "\n",
    "print('y:',y)\n",
    "print(type(y))"
   ]
  },
  {
   "cell_type": "code",
   "execution_count": 60,
   "id": "8c654d2a",
   "metadata": {},
   "outputs": [
    {
     "name": "stdout",
     "output_type": "stream",
     "text": [
      "{\"nombre\": \"Kepa\", \"edad\": 25, \"casado\": false, \"divorciado\": true, \"hijos\": [\"Unai\", \"Sara\"], \"mascotas\": null, \"coches\": [{\"modelo\": \"BMW 200\", \"km\": 500.4}, {\"modelo\": \"Ford Fiesta\", \"km\": 250.6}]}\n"
     ]
    }
   ],
   "source": [
    "# Convertir un objeto Python que contenga todos los tipos de datos admitidos:\n",
    "x = {\n",
    "  \"nombre\": \"Kepa\",\n",
    "  \"edad\": 25,\n",
    "  \"casado\": False,\n",
    "  \"divorciado\": True,\n",
    "  \"hijos\": (\"Unai\",\"Sara\"),\n",
    "  \"mascotas\": None,\n",
    "  \"coches\": [\n",
    "    {\"modelo\": \"BMW 200\", \"km\": 500.4},\n",
    "    {\"modelo\": \"Ford Fiesta\", \"km\": 250.6}\n",
    "  ]\n",
    "}\n",
    "\n",
    "print(json.dumps(x))"
   ]
  },
  {
   "cell_type": "code",
   "execution_count": 67,
   "id": "bb4056d4",
   "metadata": {},
   "outputs": [
    {
     "name": "stdout",
     "output_type": "stream",
     "text": [
      "{\n",
      "    \"nombre\": \"Kepa\",\n",
      "    \"edad\": 25,\n",
      "    \"casado\": false,\n",
      "    \"divorciado\": true,\n",
      "    \"hijos\": [\n",
      "        \"Unai\",\n",
      "        \"Sara\"\n",
      "    ],\n",
      "    \"mascotas\": null,\n",
      "    \"coches\": [\n",
      "        {\n",
      "            \"modelo\": \"BMW 200\",\n",
      "            \"km\": 500.4\n",
      "        },\n",
      "        {\n",
      "            \"modelo\": \"Ford Fiesta\",\n",
      "            \"km\": 250.6\n",
      "        }\n",
      "    ]\n",
      "}\n"
     ]
    }
   ],
   "source": [
    "# Formatear\n",
    "print(json.dumps(x, indent=4)) # nº de tabulaciones"
   ]
  },
  {
   "cell_type": "code",
   "execution_count": 69,
   "id": "2098b83b",
   "metadata": {},
   "outputs": [
    {
     "name": "stdout",
     "output_type": "stream",
     "text": [
      "{\n",
      "    \"casado\": false,\n",
      "    \"coches\": [\n",
      "        {\n",
      "            \"km\": 500.4,\n",
      "            \"modelo\": \"BMW 200\"\n",
      "        },\n",
      "        {\n",
      "            \"km\": 250.6,\n",
      "            \"modelo\": \"Ford Fiesta\"\n",
      "        }\n",
      "    ],\n",
      "    \"divorciado\": true,\n",
      "    \"edad\": 25,\n",
      "    \"hijos\": [\n",
      "        \"Unai\",\n",
      "        \"Sara\"\n",
      "    ],\n",
      "    \"mascotas\": null,\n",
      "    \"nombre\": \"Kepa\"\n",
      "}\n"
     ]
    }
   ],
   "source": [
    "print(json.dumps(x, indent=4, sort_keys=True)) #ordenamos alfabéticamente por clave."
   ]
  },
  {
   "cell_type": "markdown",
   "id": "a9e092a3",
   "metadata": {},
   "source": [
    "## Ejercicio 3\n",
    "### Coger algún json público de vuestro interés y añadirle un elemento con datos inventados en python. Luego sustituir un valor determinado de un campo por otro valor. Para terminar, transformar de nuevo el objeto a formato json y guardarlo en un nuevo archivo '.json'"
   ]
  }
 ],
 "metadata": {
  "kernelspec": {
   "display_name": "Python 3",
   "language": "python",
   "name": "python3"
  },
  "language_info": {
   "codemirror_mode": {
    "name": "ipython",
    "version": 3
   },
   "file_extension": ".py",
   "mimetype": "text/x-python",
   "name": "python",
   "nbconvert_exporter": "python",
   "pygments_lexer": "ipython3",
   "version": "3.12.5"
  }
 },
 "nbformat": 4,
 "nbformat_minor": 5
}
