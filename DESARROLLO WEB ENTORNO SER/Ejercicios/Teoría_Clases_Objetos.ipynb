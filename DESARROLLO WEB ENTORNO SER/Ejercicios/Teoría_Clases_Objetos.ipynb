{
 "cells": [
  {
   "cell_type": "markdown",
   "id": "5ae47f6d",
   "metadata": {},
   "source": [
    "### Nos permiten agrupar un conjunto de variables y funciones. Las clases proveen una forma de empaquetar datos y funcionalidad juntos. Al crear una nueva clase, se crea un nuevo tipo de objeto, permitiendo crear nuevas instancias/objetos de ese tipo.\n",
    "#### Con las clases/objetos se sigue el principio de encapsulación de datos: cada objeto posee en su seno no solo los datos que lo describen (en forma de atributos), sino también el conjunto de métodos necesarios para gestionar sus propios datos (modificación, interacciones entre objetos, etc.)\n",
    "### Por ejemplo, podemos representar un perro por una clase:\n",
    "#### - Las características como el nombre o la raza se denominan 'ATRIBUTOS'\n",
    "#### - Las funcionalidades como andar o ladrar se denominan 'MÉTODOS'\n",
    "\n",
    "### Y podemos tener diferentes perros, uno llamado BAT y otro SUR. Cada perro será un objeto de la clase 'perro'.\n",
    "### Por tanto, el concepto abstracto de perro es la clase, pero BAT o cualquier otro perro particular será el objeto."
   ]
  },
  {
   "cell_type": "code",
   "execution_count": 5,
   "id": "1f67b8b4",
   "metadata": {},
   "outputs": [
    {
     "name": "stdout",
     "output_type": "stream",
     "text": [
      "Esto es un atributo\n"
     ]
    },
    {
     "data": {
      "text/plain": [
       "<function __main__.clase.metodo(self)>"
      ]
     },
     "execution_count": 5,
     "metadata": {},
     "output_type": "execute_result"
    }
   ],
   "source": [
    "class clase:\n",
    "    atributo = \"Esto es un atributo\"  \n",
    "    def metodo(self): # 'self' es una variable que representa la instancia de la clase, \n",
    "                      # y debe estar siempre ahí, en todos los métodos de la clase.\n",
    "        return \"Esto es un método\"\n",
    "print(clase.atributo) # Esto es un atributo\n",
    "clase.metodo # accedemos al método sin invocarlo, se devuelve una instancia al método"
   ]
  },
  {
   "cell_type": "code",
   "execution_count": 6,
   "id": "ef23e40a",
   "metadata": {},
   "outputs": [
    {
     "data": {
      "text/plain": [
       "'Esto es un atributo'"
      ]
     },
     "execution_count": 6,
     "metadata": {},
     "output_type": "execute_result"
    }
   ],
   "source": [
    "# Ahora creamos una instancia/objeto\n",
    "objeto = clase()\n",
    "# Y accedemos al contenido del objeto, definido en la clase\n",
    "objeto.atributo"
   ]
  },
  {
   "cell_type": "code",
   "execution_count": 7,
   "id": "c3dd6bce",
   "metadata": {},
   "outputs": [
    {
     "data": {
      "text/plain": [
       "<bound method clase.metodo of <__main__.clase object at 0x00000000069AA130>>"
      ]
     },
     "execution_count": 7,
     "metadata": {},
     "output_type": "execute_result"
    }
   ],
   "source": [
    "objeto.metodo\n",
    "# Vemos que el hecho de acceder al método devuelve, simplemente un objeto, pero no invoca al método."
   ]
  },
  {
   "cell_type": "code",
   "execution_count": 10,
   "id": "70881f04",
   "metadata": {},
   "outputs": [
    {
     "data": {
      "text/plain": [
       "'Esto es un método'"
      ]
     },
     "execution_count": 10,
     "metadata": {},
     "output_type": "execute_result"
    }
   ],
   "source": [
    "# Para realizar dicha llamada es necesario agregar los paréntesis y pasar los argumentos necesarios.\n",
    "# El vínculo entre el primer argumento (self) del método definido en la clase y \n",
    "# la instancia se realiza de manera natural/automática.\n",
    "objeto.metodo()"
   ]
  },
  {
   "cell_type": "code",
   "execution_count": 14,
   "id": "14ffc647",
   "metadata": {},
   "outputs": [
    {
     "name": "stdout",
     "output_type": "stream",
     "text": [
      "Esto es otro atributo\n"
     ]
    },
    {
     "data": {
      "text/plain": [
       "'Esto es un otro método'"
      ]
     },
     "execution_count": 14,
     "metadata": {},
     "output_type": "execute_result"
    }
   ],
   "source": [
    "# Es importante tener clara la interconexión entre una instancia y su clase.\n",
    "# Si se modifican los elementos de la clase, entonces se modifican \n",
    "# también los elementos de la instancia/objeto.\n",
    "class otraClase:\n",
    "    otroAtributo = \"Esto es otro atributo\"\n",
    "    def otroMetodo(self):\n",
    "        return \"Esto es un otro método\"\n",
    "\n",
    "clase.atributo = otraClase.otroAtributo\n",
    "clase.metodo = otraClase.otroMetodo\n",
    "# recordemos que 'objeto' es una instancia de tipo class -> 'clase'\n",
    "# El atributo de la clase es dinámico, cualquier cambio realizado sobre éste afectará a la instancia.\n",
    "print(objeto.atributo) # imprime el valor del atributo 'otroAtributo' de 'otraClase'\n",
    "objeto.metodo()"
   ]
  },
  {
   "cell_type": "code",
   "execution_count": 16,
   "id": "fc45b77d",
   "metadata": {},
   "outputs": [
    {
     "name": "stdout",
     "output_type": "stream",
     "text": [
      "el atributo de la clase: Esto es otro atributo\n",
      "el atributo de la instancia/objeto: modificamos el atributo del objeto, ahora será diferente al de la clase\n"
     ]
    }
   ],
   "source": [
    "# Cuando el atributo de una instancia/objeto se modifica y recibe otro valor diferente al de la clase, \n",
    "# se 'desvincula' del atributo de la clase\n",
    "objeto.atributo = 'modificamos el atributo del objeto, ahora será diferente al de la clase'\n",
    "print(\"el atributo de la clase:\",clase.atributo)\n",
    "print(\"el atributo de la instancia/objeto:\",objeto.atributo)"
   ]
  },
  {
   "cell_type": "code",
   "execution_count": 17,
   "id": "efaf23a1",
   "metadata": {},
   "outputs": [
    {
     "name": "stdout",
     "output_type": "stream",
     "text": [
      "Esto es otro atributo\n"
     ]
    }
   ],
   "source": [
    "# Si hacemos lo siguiente, asignamos el valor del atributo de la clase al atributo del objeto, \n",
    "# pero NO se vinculan de nuevo\n",
    "objeto.atributo = clase.atributo # 'Esto es otro atributo'\n",
    "# Si modificamos ahora el atributo de la clase\n",
    "clase.atributo = 'atributo de clase modificado'\n",
    "print(objeto.atributo) # devuelve el atributo de la clase anterior a la modificación previa.\n",
    "# Podemos considerar que el atributo de la clase contiene el valor por defecto y \n",
    "# el atributo de la instancia contiene el valor asociado de manera duradera al objeto.\n",
    "# Por eso el 'print(objeto.atributo)' no devuelve el nuevo atributo de la clase."
   ]
  },
  {
   "cell_type": "markdown",
   "id": "19c052a8",
   "metadata": {},
   "source": [
    "### Existen dos tipos de atributos.\n",
    "#### - Atributos de instancia: pertenecen a la instancia de la clase o al OBJETO. Son atributos particulares de cada instancia, en nuestro caso de cada perro/objeto.\n",
    "#### - Atributos de clase: Se trata de atributos que pertenecen a la clase, que serán comunes para todos los objetos.\n",
    "### Método '\\__init__': se llama de forma automática al crear un objeto. Es el CONSTRUCTOR."
   ]
  },
  {
   "cell_type": "code",
   "execution_count": 2,
   "id": "27b6afbc",
   "metadata": {},
   "outputs": [
    {
     "name": "stdout",
     "output_type": "stream",
     "text": [
      "Creando objeto/perro Bat, Terrier\n",
      "Bat\n",
      "Terrier\n"
     ]
    }
   ],
   "source": [
    "# vamos a crear una clase 'Perro' con un par de atributos de instancia: el nombre y la raza.\n",
    "class Perro:\n",
    "    # El método __init__ es llamado al crear el objeto\n",
    "    def __init__(self, nombre, raza): # 'self' es una variable que representa la instancia de la clase, \n",
    "                                      # y debe estar siempre ahí\n",
    "            \n",
    "        print(f\"Creando objeto/perro {nombre}, {raza}\")\n",
    "\n",
    "        # Atributos de instancia/objeto\n",
    "        self.nombre = nombre\n",
    "        self.raza = raza\n",
    "\n",
    "# Ahora que hemos definido el método '__init__' con dos parámetros de entrada,  \n",
    "# podemos crear el objeto pasando el valor de los atributos.\n",
    "miPerro = Perro(\"Bat\", \"Terrier\")\n",
    "\n",
    "# Para acceder a los atributos del objeto -> 'miPerro.atributo'\n",
    "print(miPerro.nombre)\n",
    "print(miPerro.raza)"
   ]
  },
  {
   "cell_type": "markdown",
   "id": "d3eda1d1",
   "metadata": {},
   "source": [
    "### Ahora vamos a definir un atributo de clase, que será común para todos los perros. Por ejemplo, la especie de los perros es algo común para todos los objetos Perro."
   ]
  },
  {
   "cell_type": "code",
   "execution_count": 3,
   "id": "1103a301",
   "metadata": {},
   "outputs": [
    {
     "name": "stdout",
     "output_type": "stream",
     "text": [
      "A través de la clase: mamífero\n",
      "A través del objeto: mamífero\n"
     ]
    }
   ],
   "source": [
    "class Perro:\n",
    "    # Atributo de clase\n",
    "    especie = 'mamífero'\n",
    "\n",
    "    # El método __init__ es llamado al crear el objeto\n",
    "    def __init__(self, nombre, raza):\n",
    "        # Atributos de instancia\n",
    "        self.nombre = nombre\n",
    "        self.raza = raza\n",
    "\n",
    "miPerro = Perro(\"Bat\", \"Terrier\")\n",
    "# Podemos acceder al atributo de clase a través de la clase o del objeto\n",
    "print(\"A través de la clase:\", Perro.especie)\n",
    "print(\"A través del objeto:\", miPerro.especie)"
   ]
  },
  {
   "cell_type": "markdown",
   "id": "55c2df66",
   "metadata": {},
   "source": [
    "### Todos los objetos que se creen de la clase 'Perro' compartirán el atributo de clase, ya que pertenecen a la misma especie."
   ]
  },
  {
   "cell_type": "markdown",
   "id": "cfac56c1",
   "metadata": {},
   "source": [
    "# MÉTODOS"
   ]
  },
  {
   "cell_type": "markdown",
   "id": "f34c221a",
   "metadata": {},
   "source": [
    "### Vamos a crear dos métodos, 'ladrar' y 'caminar'. El primero no recibirá ningún parámetro y el segundo recibirá el número de pasos que queremos que el perro camine. Como hemos indicado previamente, 'self' hace referencia a la instancia de la clase (al objeto)."
   ]
  },
  {
   "cell_type": "code",
   "execution_count": 18,
   "id": "e8ffd67e",
   "metadata": {},
   "outputs": [],
   "source": [
    "class Perro:\n",
    "    # Atributo de clase\n",
    "    especie = 'mamífero'\n",
    "\n",
    "    # El método __init__ es llamado al crear el objeto\n",
    "    def __init__(self, nombre, raza):\n",
    "        print(f\"Creando perro de nombre {nombre}, y raza {raza}\")\n",
    "\n",
    "        # Atributos de instancia\n",
    "        self.nombre = nombre\n",
    "        self.raza = raza\n",
    "\n",
    "    def ladra(self): # método para el ladrido\n",
    "        print(\"Guau\")\n",
    "\n",
    "    def camina(self, pasos): # método para caminar, meter los pasos.\n",
    "        print(f\"Caminando {pasos} pasos\")"
   ]
  },
  {
   "cell_type": "code",
   "execution_count": 24,
   "id": "dd4278e3",
   "metadata": {},
   "outputs": [
    {
     "name": "stdout",
     "output_type": "stream",
     "text": [
      "Creando perro de nombre Sur, y raza Terrier\n",
      "Guau\n",
      "Caminando 8 pasos\n"
     ]
    }
   ],
   "source": [
    "# Vamos ahora a crear usar un objeto de clase 'Perro'\n",
    "miPerro = Perro(\"Sur\", \"Terrier\")\n",
    "miPerro.ladra() # el parámetro 'self' se pasa por defecto, no hay que ponerlo\n",
    "miPerro.camina(8) # 8 pasos, el parámetro 'self' se pasa por defecto, no hay que ponerlo"
   ]
  },
  {
   "cell_type": "markdown",
   "id": "b9d732c2",
   "metadata": {},
   "source": [
    "### Existen tres tipos de métodos:\n",
    "#### - Métodos de instancia, donde por convención el primer argumento se llama 'self' y representa a la instancia.\n",
    "#### - Métodos de clase, donde por convención su primer argumento se llama 'cls' y representa a la clase.\n",
    "#### - Métodos estáticos, que tienen una forma idéntica a las funciones. Se trata de funciones agregadas a las clases."
   ]
  },
  {
   "cell_type": "code",
   "execution_count": 25,
   "id": "c3aec5f7",
   "metadata": {},
   "outputs": [],
   "source": [
    "# Vamos a ver cómo se definen los tres tipos de métodos\n",
    "class Clase:\n",
    "    def metodo(self):\n",
    "        return 'Método normal de instancia', self\n",
    "\n",
    "    @classmethod\n",
    "    def metododeclase(cls):\n",
    "        return 'Método de clase', cls\n",
    "\n",
    "    @staticmethod\n",
    "    def metodoestatico():\n",
    "        return \"Método estático\""
   ]
  },
  {
   "cell_type": "markdown",
   "id": "c1baedec",
   "metadata": {},
   "source": [
    "### Métodos de instancia\n",
    "#### Reciben como mínimo y por defecto el parámetro de entrada 'self', que hace referencia a la instancia/objeto que llama al método. También pueden recibir otros argumentos de entrada."
   ]
  },
  {
   "cell_type": "code",
   "execution_count": 28,
   "id": "a908eb9e",
   "metadata": {},
   "outputs": [],
   "source": [
    "class Clase:\n",
    "    def metodo(self, arg1, arg2):\n",
    "        print(arg1, arg2)\n",
    "        return 'Método normal', self\n",
    "    "
   ]
  },
  {
   "cell_type": "code",
   "execution_count": 29,
   "id": "8b91a89e",
   "metadata": {},
   "outputs": [
    {
     "name": "stdout",
     "output_type": "stream",
     "text": [
      "Hola mundo!\n"
     ]
    },
    {
     "data": {
      "text/plain": [
       "('Método normal', <__main__.Clase at 0x80f5e20>)"
      ]
     },
     "execution_count": 29,
     "metadata": {},
     "output_type": "execute_result"
    }
   ],
   "source": [
    "# Ahora creamos el objeto de class 'Clase'\n",
    "miObjeto = Clase()\n",
    "# Y accedemos al método del objeto\n",
    "miObjeto.metodo(\"Hola\",\"mundo!\")"
   ]
  },
  {
   "cell_type": "markdown",
   "id": "fa2b4126",
   "metadata": {},
   "source": [
    "### Métodos de Clase\n",
    "#### Reciben como argumento 'cls', que hace referencia a la clase. Por lo tanto, pueden acceder a la clase pero no a la instancia."
   ]
  },
  {
   "cell_type": "code",
   "execution_count": 30,
   "id": "8282bf40",
   "metadata": {},
   "outputs": [],
   "source": [
    "class Clase:\n",
    "    @classmethod\n",
    "    def metododeclase(cls):\n",
    "        return 'Método de clase', cls"
   ]
  },
  {
   "cell_type": "code",
   "execution_count": 31,
   "id": "a64889d9",
   "metadata": {},
   "outputs": [
    {
     "data": {
      "text/plain": [
       "('Método de clase', __main__.Clase)"
      ]
     },
     "execution_count": 31,
     "metadata": {},
     "output_type": "execute_result"
    }
   ],
   "source": [
    "# Se pueden llamar desde la clase\n",
    "Clase.metododeclase()"
   ]
  },
  {
   "cell_type": "code",
   "execution_count": 32,
   "id": "47a29bc9",
   "metadata": {},
   "outputs": [
    {
     "data": {
      "text/plain": [
       "('Método de clase', __main__.Clase)"
      ]
     },
     "execution_count": 32,
     "metadata": {},
     "output_type": "execute_result"
    }
   ],
   "source": [
    "# También se pueden llamar desde el objeto\n",
    "miObjeto = Clase()\n",
    "miObjeto.metododeclase()"
   ]
  },
  {
   "cell_type": "markdown",
   "id": "33b3552f",
   "metadata": {},
   "source": [
    "### Métodos Estáticos\n",
    "#### No aceptan como parámetro ni la instancia ni la clase. Es por ello que no pueden modificar el estado ni de la clase ni de la instancia. Pero si pueden aceptar parámetros de entrada."
   ]
  },
  {
   "cell_type": "code",
   "execution_count": 4,
   "id": "64a11eb0",
   "metadata": {},
   "outputs": [
    {
     "data": {
      "text/plain": [
       "('Método estático de suma', 4)"
      ]
     },
     "execution_count": 4,
     "metadata": {},
     "output_type": "execute_result"
    }
   ],
   "source": [
    "class Clase:\n",
    "    @staticmethod\n",
    "    def metodoestatico(n1,n2):\n",
    "        return \"Método estático de suma\", n1+n2\n",
    "# se le puede llamar desde la clase o desde el objeto\n",
    "miObjeto = Clase()\n",
    "Clase.metodoestatico(2,3)\n",
    "miObjeto.metodoestatico(2,2)"
   ]
  },
  {
   "cell_type": "code",
   "execution_count": 15,
   "id": "b2978d74",
   "metadata": {},
   "outputs": [
    {
     "ename": "AttributeError",
     "evalue": "'Calculadora' object has no attribute 'metodoestatico'",
     "output_type": "error",
     "traceback": [
      "\u001b[1;31m---------------------------------------------------------------------------\u001b[0m",
      "\u001b[1;31mAttributeError\u001b[0m                            Traceback (most recent call last)",
      "Cell \u001b[1;32mIn[15], line 1\u001b[0m\n\u001b[1;32m----> 1\u001b[0m \u001b[43mmiObjeto\u001b[49m\u001b[38;5;241;43m.\u001b[39;49m\u001b[43mmetodoestatico\u001b[49m(\u001b[38;5;241m2\u001b[39m,\u001b[38;5;241m2\u001b[39m)\n",
      "\u001b[1;31mAttributeError\u001b[0m: 'Calculadora' object has no attribute 'metodoestatico'"
     ]
    }
   ],
   "source": [
    "miObjeto.metodoestatico(2,2)"
   ]
  },
  {
   "cell_type": "markdown",
   "id": "56fe1105",
   "metadata": {},
   "source": [
    "### Los métodos pueden llamar a otros métodos de la instancia usando el argumento self.\n",
    "### Ejercicio: hacer una clase 'calculadora' que defina en su constructor dos Atributos de instancia: 'num1' y 'num2'. Hay que hacer un método de instancia 'suma' que sume los dos números. Hay que hacer un segundo método 'sumax5' que use el método anterior para calcular la suma, y que luego haga el producto de la suma por 5. Luego crear un objeto 'objCalc' de la clase 'calculadora', y llamar a sus métodos."
   ]
  },
  {
   "cell_type": "code",
   "execution_count": 14,
   "id": "648b5e7c",
   "metadata": {},
   "outputs": [
    {
     "name": "stdout",
     "output_type": "stream",
     "text": [
      "12\n"
     ]
    },
    {
     "data": {
      "text/plain": [
       "('Multiplicación', <__main__.Calculadora at 0x1dbdf4effe0>)"
      ]
     },
     "execution_count": 14,
     "metadata": {},
     "output_type": "execute_result"
    }
   ],
   "source": [
    "class Calculadora:\n",
    "    def __init__(self, num1, num2):\n",
    "\n",
    "        # Atributos de instancia\n",
    "        self.num1 = num1\n",
    "        self.num2 = num2\n",
    "\n",
    "    def suma(self):\n",
    "        \n",
    "\n",
    "    def camina(self, pasos): # método para caminar, meter los pasos.\n",
    "        print(f\"Caminando {pasos} pasos\")"
   ]
  },
  {
   "cell_type": "markdown",
   "id": "84f41933",
   "metadata": {},
   "source": [
    "## Ejercicio de múltiples instancias\n",
    "### Crear la clase 'animal', que recoja el tipo de animal en su constructor (perro, gato...), en el atributo de instancia 'tipo'. Al crear el animal se debe imprimir el mensaje, por ejemplo para un gato, 'gato creado'. También se debe inicializar el atributo de instancia 'recuento' a uno. Crear el método de instancia 'añadir' que aumente el atributo recuento en una unidad, y que escriba el recuento de animales de ese tipo.\n",
    "### Suponer ahora que abrís una protectora de animales y os llegan el primer gato y el primer perro. Una vez creada la clase 'animal', podemos crear un objeto 'gato' y otro objeto 'perro'. Suponer ahora que llegan otro perro y otros dos gatos, llamar al método correspondiente las veces necesarias para actualizar el atributo 'recuento' de cada objeto."
   ]
  },
  {
   "cell_type": "code",
   "execution_count": null,
   "id": "59c38439",
   "metadata": {},
   "outputs": [],
   "source": []
  }
 ],
 "metadata": {
  "kernelspec": {
   "display_name": "Python 3",
   "language": "python",
   "name": "python3"
  },
  "language_info": {
   "codemirror_mode": {
    "name": "ipython",
    "version": 3
   },
   "file_extension": ".py",
   "mimetype": "text/x-python",
   "name": "python",
   "nbconvert_exporter": "python",
   "pygments_lexer": "ipython3",
   "version": "3.12.5"
  }
 },
 "nbformat": 4,
 "nbformat_minor": 5
}
