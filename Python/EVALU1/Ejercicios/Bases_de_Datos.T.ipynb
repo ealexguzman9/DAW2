{
 "cells": [
  {
   "cell_type": "markdown",
   "id": "950c6a95",
   "metadata": {},
   "source": [
    "## Una base de datos no es más que un espacio de almacenamiento de datos.\n",
    "## Una base de datos relacional es un espacio de almacenamiento que contiene datos organizados en tablas y relaciones entre ellas."
   ]
  },
  {
   "cell_type": "markdown",
   "id": "f487ea8c",
   "metadata": {},
   "source": [
    "## PostgreSQL: https://www.postgresql.org/\n",
    "### PostgreSQL es una base de datos relacional libre, muy robusta y fiable."
   ]
  },
  {
   "cell_type": "markdown",
   "id": "6e1d898e",
   "metadata": {},
   "source": [
    "## PSQL\n",
    "### Es una interfaz de usuario basada en terminal para PostgreSQL. Permite escribir consultas de forma interactiva, enviarlas a PostgreSQL y ver los resultados.\n",
    "### https://www.postgresql.org/docs/current/app-psql.html"
   ]
  },
  {
   "cell_type": "markdown",
   "id": "a5b8f0c0",
   "metadata": {},
   "source": [
    "## Psycopg2: driver de Python para PostgreSQL\n",
    "### https://wiki.postgresql.org/wiki/Psycopg2_Tutorial"
   ]
  },
  {
   "cell_type": "markdown",
   "id": "c88a3e29",
   "metadata": {},
   "source": [
    "## Cursores\n",
    "### https://www.psycopg.org/docs/cursor.html"
   ]
  },
  {
   "cell_type": "markdown",
   "id": "6d505b73",
   "metadata": {},
   "source": [
    "## Ejercicio:\n",
    "### * Iniciar el servidor PostgreSQL desde la terminal de VS Code.\n",
    "### * Crear desde la terminal una base de datos llamada 'mydb'.\n",
    "### * Crear el usuario 'miusuario' desde la terminal.\n",
    "### * Utilizar psql en el terminal para ver la lista de bases de datos y la lista de usuarios del servidor PostgreSQL.\n",
    "### * Instalar psycopg2 desde la consola.\n",
    "### * Abrir un Jupyter Notebook, importar psycopg2 y conectarse desde Python a la base de datos creada (mydb) con el usuario creado (miusuario). El intento de conexión debe lanzar el error que surja en caso de fallo.\n",
    "### * Desde Python crear la tabla 'mitabla' en  'mydb' con una columna tipo entero (edad) y dos columnas tipo 'VARCHAR' (nombre, apellido)\n",
    "### Crear una función que pregunte al usuario su nombre, apellido y edad, y que introduzca los datos en la base de datos. Insertar tres personas llamando 3 veces a esta función.\n",
    "### * Para terminar, usar psql desde la terminal de VS Code para ver la tabla introducida desde Python."
   ]
  },
  {
   "cell_type": "markdown",
   "id": "3b67a520",
   "metadata": {},
   "source": [
    "## ORM es el acrónimo de Object Relational Mapping (mapeo objeto-relacional)\n",
    "### Su objetivo principal es la manipulación de datos de una base de datos relacional a través de objetos.\n",
    "### Otro objetivo importante es aislar al usuario de las diferencias existentes entre las distintas bases de datos.\n",
    "#### https://wiki.python.org/moin/HigherLevelDatabaseProgramming"
   ]
  },
  {
   "cell_type": "markdown",
   "id": "c0bde6c6",
   "metadata": {},
   "source": [
    "## La solución más extendida es SQLAlchemy"
   ]
  },
  {
   "cell_type": "markdown",
   "id": "f8d76d9b",
   "metadata": {},
   "source": [
    "## https://www.sqlalchemy.org/"
   ]
  },
  {
   "cell_type": "markdown",
   "id": "e13a92a4",
   "metadata": {},
   "source": [
    "## Ejemplo\n",
    "### - Instalar sqlalchemy en nuestro entorno de trabajo desde la consola de VS Code.\n",
    "### - Crear un engine para comunicarse con la base de datos.\n",
    "### - Crear un modelo para trabajar con una tabla de nombre 'mi_tabla'. La tabla debe tener dos columnas: una 'nombre' tipo String y un id tipo integer que sea primary_key.\n",
    "### - Crear la tabla en la BD e insertar una fila con un nombre.\n",
    "### - Ver desde psql que la tabla 'mi_tabla1' se ha creado y rellenado correctamente."
   ]
  },
  {
   "cell_type": "code",
   "execution_count": 22,
   "id": "8d6040fc",
   "metadata": {},
   "outputs": [],
   "source": [
    "from sqlalchemy import create_engine\n",
    "from sqlalchemy.orm import sessionmaker\n",
    "from sqlalchemy.orm import declarative_base\n",
    "# Crear un engine para comunicarse con la base de datos\n",
    "#engine = create_engine('sqlite:///productos.sqlite')\n",
    "#engine = create_engine('postgresql://<usuario>:<contraseña>@<host>/<base_de_datos>')\n",
    "#\"dbname='mydb' user='miusuario' host='localhost'\"\n",
    "engine = create_engine('postgresql://miusuario:@localhost/mydb')"
   ]
  },
  {
   "cell_type": "code",
   "execution_count": 23,
   "id": "608ebb07",
   "metadata": {},
   "outputs": [],
   "source": [
    "# Los modelos son las clases que representan las tablas de la base de datos.\n",
    "# Cada atributo en un modelo SQLAlchemy suele estar asociado con un objeto Column\n",
    "# Vamos a crear un modelo/clase. \n",
    "# Para ello necesitamos una 'clase base' de la que heredan todas las demás.\n",
    "Base = declarative_base()\n",
    "# Definir una tabla\n",
    "from sqlalchemy import Column, Integer, String\n",
    "# Column es una clase que se utiliza para definir columnas en una tabla de base de datos.\n",
    "# Integer se necesita para especificar que una columna en una tabla contendrá valores enteros.\n",
    "# String se necesita para especificar que una columna en una tabla contendrá valores de texto.\n",
    "class miTabla(Base):\n",
    "    __tablename__ = 'mitabla'\n",
    "    id = Column(Integer, primary_key=True)\n",
    "    nombre = Column(String)\n",
    "# Para comunicarse con la BD, hay que iniciar el servidor postgresql\n",
    "# pg_ctl start -D E:\\Users\\Alex\\anaconda3\\envs\\cursoDWES\\data\n",
    "# Crear la tabla en la base de datos\n",
    "Base.metadata.create_all(engine)"
   ]
  },
  {
   "cell_type": "code",
   "execution_count": 25,
   "id": "b97bb3f5",
   "metadata": {},
   "outputs": [],
   "source": [
    "# Insertar datos en la tabla \n",
    "# Hay que crear una sesión y especificar el motor de la base de datos asociado a la sesión.\n",
    "# El motor de la base de datos se encarga de establecer y administrar la conexión con la base de datos\n",
    "Sesion = sessionmaker(bind=engine) # para especificar el motor de la base de datos asociado a esta sesión.\n",
    "\n",
    "sesion = Sesion() # instanciamos para iniciar la sesión de trabajo\n",
    "nuevo_registro = miTabla(nombre=\"Alex\")\n",
    "sesion.add(nuevo_registro)\n",
    "sesion.commit() # para confirmar y ejecutar las operaciones en la base de datos\n",
    "\n",
    "sesion.close() # cerramos la sesión\n",
    "# No olvidarse de parar el servidor\n",
    "# pg_ctl stop -D E:\\Users\\Alex\\anaconda3\\envs\\cursoDWES\\data"
   ]
  }
 ],
 "metadata": {
  "kernelspec": {
   "display_name": "Python 3 (ipykernel)",
   "language": "python",
   "name": "python3"
  },
  "language_info": {
   "codemirror_mode": {
    "name": "ipython",
    "version": 3
   },
   "file_extension": ".py",
   "mimetype": "text/x-python",
   "name": "python",
   "nbconvert_exporter": "python",
   "pygments_lexer": "ipython3",
   "version": "3.8.17"
  }
 },
 "nbformat": 4,
 "nbformat_minor": 5
}
