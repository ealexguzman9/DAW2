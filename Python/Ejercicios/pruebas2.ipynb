{
 "cells": [
  {
   "cell_type": "code",
   "execution_count": 1,
   "metadata": {},
   "outputs": [
    {
     "name": "stdout",
     "output_type": "stream",
     "text": [
      "Desarrollo\n",
      "bienvenido al curso de desarrollo de aplicaciones web\n",
      "BIENVENIDO\n",
      "Bienvenido al curso de Desarrollo de Aplicaciones Python\n"
     ]
    }
   ],
   "source": [
    "#slicing\n",
    "mensaje = \"Bienvenido al curso de Desarrollo de Aplicaciones Web\"\n",
    "print(mensaje[23:33])\n",
    "\n",
    "#minusculas\n",
    "x = mensaje.lower()\n",
    "print(x)\n",
    "\n",
    "#Mayusculas\n",
    "y = mensaje[0:10]\n",
    "print(y.upper())\n",
    "\n",
    "#Remplazar\n",
    "print(mensaje.replace(\"Web\", \"Python\"))\n"
   ]
  }
 ],
 "metadata": {
  "kernelspec": {
   "display_name": "Python 3",
   "language": "python",
   "name": "python3"
  },
  "language_info": {
   "codemirror_mode": {
    "name": "ipython",
    "version": 3
   },
   "file_extension": ".py",
   "mimetype": "text/x-python",
   "name": "python",
   "nbconvert_exporter": "python",
   "pygments_lexer": "ipython3",
   "version": "3.12.5"
  }
 },
 "nbformat": 4,
 "nbformat_minor": 2
}
