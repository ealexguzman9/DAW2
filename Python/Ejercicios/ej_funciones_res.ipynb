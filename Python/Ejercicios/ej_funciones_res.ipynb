{
 "cells": [
  {
   "cell_type": "markdown",
   "id": "9532b325",
   "metadata": {},
   "source": [
    "# FUNCIONES"
   ]
  },
  {
   "cell_type": "markdown",
   "id": "1319f909",
   "metadata": {},
   "source": [
    "## Ejercicio 1:\n",
    "### Escribir un programa Python que utilice una función recursiva para calcular la suma de los enteros positivos de n+(n-2)+(n-4)... (hasta que n-x <= 0)."
   ]
  },
  {
   "cell_type": "code",
   "execution_count": 28,
   "id": "8118d7d5",
   "metadata": {},
   "outputs": [
    {
     "name": "stdout",
     "output_type": "stream",
     "text": [
      "n es: 5\n",
      "n es: 3\n",
      "n es: 1\n",
      "9\n"
     ]
    }
   ],
   "source": [
    "def sum_series(n):\n",
    "    if n < 1:        \n",
    "        return 0\n",
    "    else:\n",
    "        print(\"n es:\",n)\n",
    "        return n + sum_series(n - 2)\n",
    "\n",
    "print(sum_series(5))"
   ]
  },
  {
   "cell_type": "markdown",
   "id": "aaade4be",
   "metadata": {},
   "source": [
    "## Ejercicio 2\n",
    "### Escribir un programa Python que utilice una función recursiva para calcular la suma de los elementos de una lista que tiene algunos elementos tipo lista.\n",
    "### Por ejemplo, que calcule la suma de los elementos de la siguiente lista:\n",
    "### [1, 2, [3, 4], [6, 4]]"
   ]
  },
  {
   "cell_type": "code",
   "execution_count": 31,
   "id": "e57ea333",
   "metadata": {},
   "outputs": [
    {
     "name": "stdout",
     "output_type": "stream",
     "text": [
      "20\n"
     ]
    }
   ],
   "source": [
    "def recursive_list_sum(data_list):\n",
    "    total = 0\n",
    "    for element in data_list:\n",
    "        if type(element) == type(list()):\n",
    "            total = total + recursive_list_sum(element)\n",
    "        else:\n",
    "            total = total + element\n",
    "\n",
    "    return total\n",
    "\n",
    "print( recursive_list_sum([1, 2, [3,4],[6,4]]))"
   ]
  },
  {
   "cell_type": "markdown",
   "id": "3bb3aea0",
   "metadata": {},
   "source": [
    "## Ejercicio 3\n",
    "### Escribir un programa Python para calcular el valor de 'a' elevado a 'b'.\n",
    "### Ayuda: '0' elevado a 'b' será siempre '0' ; 'a' elevado a '0' será siempre '1'\n",
    "### Ayuda: $a^5=a*a^4$\n",
    "### Ejemplo de prueba: potencia(3,2) = 9"
   ]
  },
  {
   "cell_type": "code",
   "execution_count": 33,
   "id": "3aa541d6",
   "metadata": {},
   "outputs": [
    {
     "name": "stdout",
     "output_type": "stream",
     "text": [
      "9\n"
     ]
    }
   ],
   "source": [
    "def potencia(a,b):\n",
    "    if b==0:\n",
    "        return 1\n",
    "    elif a==0:\n",
    "        return 0\n",
    "    elif b==1:\n",
    "        return a\n",
    "    else:\n",
    "        return a*potencia(a,b-1)\n",
    "\n",
    "print(potencia(3,2))"
   ]
  },
  {
   "cell_type": "markdown",
   "id": "cffdaea9",
   "metadata": {},
   "source": [
    "## Ejercicio 4\n",
    "#### Escribir una función de Python que verifique si una cadena pasada es un palíndromo o no.\n",
    "#### Nota: Un palíndromo es una palabra, frase o secuencia que se lee igual hacia atrás que hacia adelante, por ejemplo: ojo, radar."
   ]
  },
  {
   "cell_type": "code",
   "execution_count": 35,
   "id": "d0c23eb9",
   "metadata": {},
   "outputs": [
    {
     "name": "stdout",
     "output_type": "stream",
     "text": [
      "False\n"
     ]
    }
   ],
   "source": [
    "def isPalindrome(string):\n",
    "    left_pos = 0\n",
    "    right_pos = len(string) - 1\n",
    "\n",
    "    while right_pos >= left_pos:\n",
    "        if not string[left_pos] == string[right_pos]:\n",
    "            return False\n",
    "        left_pos += 1\n",
    "        right_pos -= 1\n",
    "    return True\n",
    "print(isPalindrome('aze'))"
   ]
  },
  {
   "cell_type": "markdown",
   "id": "86566389",
   "metadata": {},
   "source": [
    "## Ejercicio 5: \n",
    "### Escribir una función de Python que acepte una cadena como parámetro de entrada y cuente el número de letras mayúsculas y minúsculas.\n",
    "### Ayuda: utilizar las funciones 'isupper()' - 'islower()'"
   ]
  },
  {
   "cell_type": "code",
   "execution_count": 41,
   "id": "3996c05e",
   "metadata": {},
   "outputs": [
    {
     "name": "stdout",
     "output_type": "stream",
     "text": [
      "String original:  Mañana a las 9:00 voy al Txindoki\n",
      "No. de letras mayúsculas:  2\n",
      "No. de letras minúsculas:  21\n"
     ]
    }
   ],
   "source": [
    "def string_test(s):\n",
    "    d={\"upper\":0, \"lower\":0}\n",
    "    for c in s:\n",
    "        if c.isupper():\n",
    "            d[\"upper\"]+=1\n",
    "        elif c.islower():\n",
    "            d[\"lower\"]+=1\n",
    "        else:\n",
    "            pass\n",
    "    print (\"String original: \", s)\n",
    "    print (\"No. de letras mayúsculas: \", d[\"upper\"])\n",
    "    print (\"No. de letras minúsculas: \", d[\"lower\"])\n",
    "\n",
    "string_test('Mañana a las 9:00 voy al Txindoki')"
   ]
  },
  {
   "cell_type": "markdown",
   "id": "01f84f57",
   "metadata": {},
   "source": [
    "## Ejercicio 6:\n",
    "### Crear una función que admita un número variable de parámetros (sin nombrar). Los parámetros pueden ser palabras o listas de 2/3 palabras. La función debe reconocer para cada parámetro si es una lista o no. Si es una lista, indicar el número de elementos de la lista; si es una palabra, indicar que el parámetro es una palabra."
   ]
  },
  {
   "cell_type": "code",
   "execution_count": 48,
   "id": "acfc8203",
   "metadata": {},
   "outputs": [
    {
     "name": "stdout",
     "output_type": "stream",
     "text": [
      "el argumento es una palabra\n",
      "La lista tiene 3 elementos.\n",
      "La lista tiene 2 elementos.\n"
     ]
    }
   ],
   "source": [
    "def wordOrList(*args):\n",
    "    for elemento in args:\n",
    "        if type(elemento) ==  type([]):\n",
    "            print(f\"La lista tiene {len(elemento)} elementos.\")\n",
    "        else:\n",
    "            print(\"el argumento es una palabra\")\n",
    "param = (\"hola\", [\"qué\",\"tal\",\"estás\"], [\"esta\",\"mañana\"])   \n",
    "wordOrList(*param)"
   ]
  },
  {
   "cell_type": "code",
   "execution_count": null,
   "id": "b107c4da",
   "metadata": {},
   "outputs": [],
   "source": []
  }
 ],
 "metadata": {
  "kernelspec": {
   "display_name": "Python 3 (ipykernel)",
   "language": "python",
   "name": "python3"
  },
  "language_info": {
   "codemirror_mode": {
    "name": "ipython",
    "version": 3
   },
   "file_extension": ".py",
   "mimetype": "text/x-python",
   "name": "python",
   "nbconvert_exporter": "python",
   "pygments_lexer": "ipython3",
   "version": "3.8.17"
  }
 },
 "nbformat": 4,
 "nbformat_minor": 5
}
