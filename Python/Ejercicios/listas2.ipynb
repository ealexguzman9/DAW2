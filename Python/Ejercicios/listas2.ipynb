{
 "cells": [
  {
   "cell_type": "code",
   "execution_count": null,
   "metadata": {},
   "outputs": [],
   "source": [
    "Usa 'comprensión de listas' para filtrar solo los números pares de ambas listas.\n",
    "Une las dos listas filtradas.\n",
    "Ordena la lista combinada en orden descendente.\n",
    "Haz una copia de la lista resultante y elimina los números duplicados de la copia.\n",
    "Muestra ambas listas (original y copia)."
   ]
  },
  {
   "cell_type": "code",
   "execution_count": 12,
   "metadata": {},
   "outputs": [
    {
     "name": "stdout",
     "output_type": "stream",
     "text": [
      "[12, 56, 22, 98, 34, 34, 24, 78, 56]\n",
      "[98, 78, 56, 56, 34, 34, 24, 22, 12]\n",
      "{98, 34, 12, 78, 22, 56, 24}\n",
      "[98, 78, 56, 56, 34, 34, 24, 22, 12]\n",
      "[98, 34, 12, 78, 22, 56, 24]\n"
     ]
    }
   ],
   "source": [
    "#Listas\n",
    "list1 = [12, 43, 56, 7, 22, 98, 34] \n",
    "list2 = [65, 34, 89, 21, 24, 78, 56]\n",
    "\n",
    "#Bucle para las nuevas listas y unirlas\n",
    "newlist = [x for x in list1 + list2 if (x%2 == 0)]\n",
    "print(newlist)\n",
    "\n",
    "#ordenando las listas\n",
    "newlist.sort(reverse = True)\n",
    "print(newlist)\n",
    "\n",
    "#Eliminar resultados\n",
    "otherlist = newlist.copy()\n",
    "listaset = set(otherlist)\n",
    "otherlist = list(listaset)\n",
    "print(listaset)\n",
    "print(newlist)\n",
    "print(otherlist)\n",
    "\n"
   ]
  },
  {
   "cell_type": "code",
   "execution_count": 2,
   "metadata": {},
   "outputs": [
    {
     "ename": "SyntaxError",
     "evalue": "invalid syntax (110630671.py, line 1)",
     "output_type": "error",
     "traceback": [
      "\u001b[1;36m  Cell \u001b[1;32mIn[2], line 1\u001b[1;36m\u001b[0m\n\u001b[1;33m    Extraer solo los nombres de las personas mayores de 18 años.\u001b[0m\n\u001b[1;37m            ^\u001b[0m\n\u001b[1;31mSyntaxError\u001b[0m\u001b[1;31m:\u001b[0m invalid syntax\n"
     ]
    }
   ],
   "source": [
    "Extraer solo los nombres de las personas mayores de 18 años.\n",
    "Ordenar las sublistas por edad.\n",
    "Copiar esta lista ordenada y luego invertir el orden de la copia.\n",
    "Une los nombres en una cadena separada por comas y muestra el resultado final."
   ]
  },
  {
   "cell_type": "code",
   "execution_count": 3,
   "metadata": {},
   "outputs": [
    {
     "ename": "TypeError",
     "evalue": "'>' not supported between instances of 'list' and 'int'",
     "output_type": "error",
     "traceback": [
      "\u001b[1;31m---------------------------------------------------------------------------\u001b[0m",
      "\u001b[1;31mTypeError\u001b[0m                                 Traceback (most recent call last)",
      "Cell \u001b[1;32mIn[3], line 4\u001b[0m\n\u001b[0;32m      1\u001b[0m people \u001b[38;5;241m=\u001b[39m [[\u001b[38;5;124m\"\u001b[39m\u001b[38;5;124mAna\u001b[39m\u001b[38;5;124m\"\u001b[39m, \u001b[38;5;241m25\u001b[39m], [\u001b[38;5;124m\"\u001b[39m\u001b[38;5;124mLuis\u001b[39m\u001b[38;5;124m\"\u001b[39m, \u001b[38;5;241m17\u001b[39m], [\u001b[38;5;124m\"\u001b[39m\u001b[38;5;124mCarlos\u001b[39m\u001b[38;5;124m\"\u001b[39m, \u001b[38;5;241m20\u001b[39m], [\u001b[38;5;124m\"\u001b[39m\u001b[38;5;124mMaría\u001b[39m\u001b[38;5;124m\"\u001b[39m, \u001b[38;5;241m16\u001b[39m], [\u001b[38;5;124m\"\u001b[39m\u001b[38;5;124mLucía\u001b[39m\u001b[38;5;124m\"\u001b[39m, \u001b[38;5;241m22\u001b[39m]]\n\u001b[0;32m      3\u001b[0m \u001b[38;5;28;01mfor\u001b[39;00m x \u001b[38;5;129;01min\u001b[39;00m people:\n\u001b[1;32m----> 4\u001b[0m     \u001b[38;5;28;01mif\u001b[39;00m \u001b[43mx\u001b[49m\u001b[43m \u001b[49m\u001b[38;5;241;43m>\u001b[39;49m\u001b[43m \u001b[49m\u001b[38;5;241;43m18\u001b[39;49m\u001b[43m \u001b[49m\u001b[38;5;129;43;01min\u001b[39;49;00m\u001b[43m \u001b[49m\u001b[43mx\u001b[49m:\n\u001b[0;32m      5\u001b[0m         \u001b[38;5;28mprint\u001b[39m(x)\n",
      "\u001b[1;31mTypeError\u001b[0m: '>' not supported between instances of 'list' and 'int'"
     ]
    }
   ],
   "source": [
    "\n",
    "people = [[\"Ana\", 25], [\"Luis\", 17], [\"Carlos\", 20], [\"María\", 16], [\"Lucía\", 22]]\n",
    "newlist = []\n",
    "\n",
    "for x in people:\n",
    "  if \"18\" in x:\n",
    "    newlist.append(x)\n",
    "\n",
    "print(newlist)\n"
   ]
  }
 ],
 "metadata": {
  "kernelspec": {
   "display_name": "Python 3",
   "language": "python",
   "name": "python3"
  },
  "language_info": {
   "codemirror_mode": {
    "name": "ipython",
    "version": 3
   },
   "file_extension": ".py",
   "mimetype": "text/x-python",
   "name": "python",
   "nbconvert_exporter": "python",
   "pygments_lexer": "ipython3",
   "version": "3.12.5"
  }
 },
 "nbformat": 4,
 "nbformat_minor": 2
}
