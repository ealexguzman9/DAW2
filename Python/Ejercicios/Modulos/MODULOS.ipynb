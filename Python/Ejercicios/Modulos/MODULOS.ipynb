{
 "cells": [
  {
   "cell_type": "markdown",
   "id": "8e724836",
   "metadata": {},
   "source": [
    "## MÓDULOS\n",
    "### Un módulo es una colección de funciones, clases, constantes y otras variables. \n",
    "### Los módulos son como los estantes de una librería, y se utilizan para clasificar el código.\n",
    "### https://docs.python.org/es/3/tutorial/modules.html#tut-modules"
   ]
  },
  {
   "cell_type": "markdown",
   "id": "26e90037",
   "metadata": {},
   "source": [
    "## CREAR UN MÓDULO\n",
    "### En Python, un módulo es simplemente un archivo con la extensión '.py'.\n",
    "## CREAR PAQUETES (colecciones de módulos)\n",
    "### Una carpeta puede ser un módulo de Python siempre que exista un archivo '__init__.py' en su interior, aunque esté vacío. Esta carpeta puede tener otros módulos en su interior (submódulos), sean carpetas o archivos '.py'."
   ]
  },
  {
   "cell_type": "markdown",
   "id": "79f984ba",
   "metadata": {},
   "source": [
    "## Diferencia entre ejecutar e importar un módulo"
   ]
  },
  {
   "cell_type": "markdown",
   "id": "fbbb4c4c",
   "metadata": {},
   "source": [
    "### En Python, '\\__main__' es el nombre del entorno en el cual se ejecuta el código de máximo nivel. «Código de máximo nivel» es el primer módulo de Python especificado por el usuario que comienza a ejecutarse. Es «de máximo nivel» porque importa todos los demás módulos que necesita el programa. A veces al «código de máximo nivel» se le denomina punto de entrada a la aplicación.\n",
    "### https://docs.python.org/3/library/__main__.html\n",
    "### Cuando un módulo o paquete de Python es importado, 'el nombre del módulo es asignado a '\\__name\\__' . Normalmente, este es el nombre del archivo de Python sin la extensión '.py'.\n",
    "### Sin embargo, si el módulo es ejecutado en el entorno de código de máximo nivel, a su '\\__name\\__' se le asigna el valor del string '\\__main\\__'."
   ]
  },
  {
   "cell_type": "code",
   "execution_count": null,
   "id": "178adc59",
   "metadata": {},
   "outputs": [],
   "source": [
    "# Si creamos un módulo, podemos importarlo\n",
    "# miModulo.py con el siguiente código:\n",
    "  # def sumar(a, b):\n",
    "  #     return a + b\n",
    "\n",
    "# Podríamos importarlo desde otro módulo,\n",
    "# miSegundoModulo.py con el siguiente código:\n",
    "# miSegundoModulo.py\n",
    "  # import miModulo\n",
    "  # print(miModulo.sumar(4, 2))   # 6\n",
    "\n",
    "# Podemos importar todo el módulo haciendo uso de *, evitando usar 'miModulo.*'\n",
    "# NO RECOMENDABLE, LAS FUNCIONES CON EL MISMO NOMBRE DE DISTINTAS LIBRERÍAS\n",
    "# PODRÍAN ENTRAR EN CONFLICTO.\n",
    "# miSegundoModulo.py\n",
    "  # from miModulo import *\n",
    "  # print(sumar(3, 4))   # 7\n",
    "\n",
    "# También podemos importar sólo la función, aunque también podría haber\n",
    "# conflicto con funciones de otros paquetes/librerías.\n",
    "# miSegundoModulo.py\n",
    "  # from miModulo import sumar\n",
    "  # print(sumar(3, 3))   # 6\n",
    "\n",
    "# Podemos usar un alias, por ejemplo para acortar nombres:\n",
    "# import nombrelargodemodulo as mod\n",
    "# podríamos usar 'mod.***'"
   ]
  },
  {
   "cell_type": "markdown",
   "id": "a6977378",
   "metadata": {},
   "source": [
    "## Uso de \\__main__"
   ]
  },
  {
   "cell_type": "code",
   "execution_count": null,
   "id": "4996d4b9",
   "metadata": {},
   "outputs": [],
   "source": [
    "# Suponer que tenemos el siguiente módulo:\n",
    "\n",
    "    # modulo1.py\n",
    "    # def sumar(a, b):\n",
    "    #    return a + b\n",
    "\n",
    "    # s = sumar(1, 2)\n",
    "    # print(\"La suma es:\", s)\n",
    "\n",
    "# Si importamos el módulo desde otro módulo:\n",
    "    # segundoModulo.py\n",
    "    # import modulo1\n",
    "    # -> Salida: La suma es: 3\n",
    "\n",
    "# Puede ser importante especificar que queremos que se ejecute el código \n",
    "# únicamente si el módulo es el __main__ (si estamos EJECUTANDO el módulo):\n",
    "\n",
    "    # modulo1.py\n",
    "    # def sumar(a, b):\n",
    "    #    return a + b\n",
    "\n",
    "    # if (__name__ == '__main__'):\n",
    "    #    s = sumar(1, 2)\n",
    "    #    print(\"La suma es:\", s)\n",
    "\n",
    "# AHORA, SI EJECUTAMOS modulo1.py SE HARÁ Y SE IMPRIMIRÁ LA SUMA.\n",
    "# SIN EMBARGO, SI IMPORTAMOS modulo1 DESDE segundoModulo.py, NO SE HARÁ\n",
    "# NI SE IMPRIMIRÁ LA SUMA."
   ]
  },
  {
   "cell_type": "markdown",
   "id": "fa8d8432",
   "metadata": {},
   "source": [
    "## EJERCICIO:"
   ]
  },
  {
   "cell_type": "markdown",
   "id": "e7e3668f",
   "metadata": {},
   "source": [
    "### Crear un PAQUETE (colección de módulos) de la siguiente manera:\n",
    "### - Crear una carpeta 'modulos' con:\n",
    "###    * Un módulo 'lanzador.py' como punto de entrada a la aplicación, que importe los módulos del paquete indicado a continuación. Debe usar las dos funciones del paquete, e imprimir la suma y la resta de dos números introducidos por el usuario.\n",
    "###    * Un paquete con dos módulos: uno con una función que sume dos números (módulo 'sumar.py'), y otro con una función que reste dos números (módulo 'restar.py').\n",
    "\n"
   ]
  },
  {
   "cell_type": "code",
   "execution_count": null,
   "id": "eddc24ec",
   "metadata": {},
   "outputs": [],
   "source": []
  }
 ],
 "metadata": {
  "kernelspec": {
   "display_name": "Python 3 (ipykernel)",
   "language": "python",
   "name": "python3"
  },
  "language_info": {
   "codemirror_mode": {
    "name": "ipython",
    "version": 3
   },
   "file_extension": ".py",
   "mimetype": "text/x-python",
   "name": "python",
   "nbconvert_exporter": "python",
   "pygments_lexer": "ipython3",
   "version": "3.11.5"
  }
 },
 "nbformat": 4,
 "nbformat_minor": 5
}
