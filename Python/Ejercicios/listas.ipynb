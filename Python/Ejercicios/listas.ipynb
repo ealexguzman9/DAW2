{
 "cells": [
  {
   "cell_type": "code",
   "execution_count": 9,
   "metadata": {},
   "outputs": [
    {
     "name": "stdout",
     "output_type": "stream",
     "text": [
      "['Erick', 'Guzman']\n"
     ]
    }
   ],
   "source": [
    "lista2 = [\"Erick\",\"Guzman\"]\n",
    "lista1 = [\"David\", \"Romero\"]\n",
    "lista3 = [\"Daniel\", \"Peñalva\"]\n",
    "listaPrincipal = [lista1,lista2,lista3]\n",
    "for x in listaPrincipal:\n",
    "    if \"Guzman\" in x:\n",
    "        print(x)\n",
    "\n",
    "\n"
   ]
  }
 ],
 "metadata": {
  "kernelspec": {
   "display_name": "Python 3",
   "language": "python",
   "name": "python3"
  },
  "language_info": {
   "codemirror_mode": {
    "name": "ipython",
    "version": 3
   },
   "file_extension": ".py",
   "mimetype": "text/x-python",
   "name": "python",
   "nbconvert_exporter": "python",
   "pygments_lexer": "ipython3",
   "version": "3.12.5"
  }
 },
 "nbformat": 4,
 "nbformat_minor": 2
}
