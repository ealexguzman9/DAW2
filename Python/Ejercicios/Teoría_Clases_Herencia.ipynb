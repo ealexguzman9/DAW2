{
 "cells": [
  {
   "cell_type": "markdown",
   "id": "190e011c",
   "metadata": {},
   "source": [
    "### La herencia es un proceso mediante el cual se puede crear una clase hija que hereda los métodos y atributos de una clase padre.\n",
    "### Una clase hija puede sobreescribir los métodos o atributos de su clase padre, y puede también definir unos nuevos.\n",
    "## Se puede crear una clase hija con tan solo pasar como parámetro la clase padre."
   ]
  },
  {
   "cell_type": "code",
   "execution_count": 1,
   "id": "9a0540a4",
   "metadata": {},
   "outputs": [],
   "source": [
    "#Vamos a crear una clase hija 'Perro' a partir de la clase padre 'Animal'\n",
    "# Definimos una clase padre\n",
    "class Animal:\n",
    "    pass # la instrucción pass no hace nada, pero evitamos el error cuando no se permite código vacío.\n",
    "\n",
    "# Creamos una clase hija que hereda de la padre\n",
    "class Perro(Animal): # ponemos como parámetro la clase padre\n",
    "    pass # la instrucción pass no hace nada, pero evitamos el error cuando no se permite código vacío."
   ]
  },
  {
   "cell_type": "code",
   "execution_count": 10,
   "id": "59fbd71b",
   "metadata": {},
   "outputs": [
    {
     "name": "stdout",
     "output_type": "stream",
     "text": [
      "[<class '__main__.Perro'>]\n"
     ]
    }
   ],
   "source": [
    "# Con el método __subclasses__() podemos ver qué clases descienden de una en concreto (Animal en este caso)\n",
    "print(Animal.__subclasses__())"
   ]
  },
  {
   "cell_type": "code",
   "execution_count": 11,
   "id": "b52a5750",
   "metadata": {},
   "outputs": [
    {
     "name": "stdout",
     "output_type": "stream",
     "text": [
      "(<class '__main__.Animal'>,)\n"
     ]
    }
   ],
   "source": [
    "# Con el método __bases__ podemos ver la clase padre de la clase Perro \n",
    "print(Perro.__bases__)"
   ]
  },
  {
   "cell_type": "markdown",
   "id": "2750b6f1",
   "metadata": {},
   "source": [
    "### La herencia nos sirve por ejemplo para crear una clase Animal con los elementos comunes y crear clases para distintos elemntos, que hereden de la clase Animal.\n",
    "### De esta manera se respeta la filosofía DRY (Don't Repeat Yourself)"
   ]
  },
  {
   "cell_type": "markdown",
   "id": "d04972e8",
   "metadata": {},
   "source": [
    "### Extender y modificar métodos.\n",
    "### Vamos a definir una clase padre Animal que tendrá todos los atributos y métodos genéricos de los animales.\n",
    "### Atributos:\n",
    " #### - especie -> todos los animales pertenecen a alguna.\n",
    " #### - edad -> todos los animales tienen una edad.\n",
    "### Métodos:\n",
    " #### - comunicar -> perros ladran, etc.\n",
    " #### - mover -> unos caminan, otros vuelan...\n",
    " #### - descripcion -> todos pueden tener una descripción."
   ]
  },
  {
   "cell_type": "code",
   "execution_count": 20,
   "id": "a57724aa",
   "metadata": {},
   "outputs": [],
   "source": [
    "# veamos el código\n",
    "class Animal:\n",
    "    def __init__(self, especie, edad):\n",
    "        self.especie = especie\n",
    "        self.edad = edad\n",
    "\n",
    "    # Método genérico pero con implementación particular posterior\n",
    "    def comunicar(self):\n",
    "        # Método vacío\n",
    "        pass\n",
    "\n",
    "    # Método genérico pero con implementación particular posterior\n",
    "    def mover(self):\n",
    "        # Método vacío\n",
    "        pass\n",
    "\n",
    "    # Método genérico con la misma implementación\n",
    "    def descripcion(self):\n",
    "        print(\"Soy un Animal de subclase\", type(self).__name__,f\"y tengo {self.edad} años\")"
   ]
  },
  {
   "cell_type": "code",
   "execution_count": 21,
   "id": "5771232d",
   "metadata": {},
   "outputs": [
    {
     "name": "stdout",
     "output_type": "stream",
     "text": [
      "Soy un Animal de subclase Gato y tengo 5 años\n"
     ]
    }
   ],
   "source": [
    "#Ahora creamos una clase Gato que hereda de animal\n",
    "# de momento sólo hereda atributos y métodos de la clase Animal\n",
    "class Gato(Animal):\n",
    "    pass\n",
    "\n",
    "miGato = Gato('mamífero',5)\n",
    "miGato.descripcion()"
   ]
  },
  {
   "cell_type": "code",
   "execution_count": 22,
   "id": "138378a4",
   "metadata": {},
   "outputs": [],
   "source": [
    "# Ahora vamos a crear varios animales concretos y sobreescrbir algunos de los métodos definidos \n",
    "# en la clase Animal, como 'comunicar' o 'mover', ya que cada animal se comporta de una manera distinta.\n",
    "class Perro(Animal):\n",
    "    def comunicar(self):\n",
    "        print(\"Guau!\")\n",
    "    def mover(self):\n",
    "        print(\"Camina con 4 patas\")\n",
    "    # nuevo método que no está en la clase padre\n",
    "    def morder(self):\n",
    "        print(\"morder!\")\n",
    "\n",
    "class Gato(Animal):\n",
    "    def comunicar(self):\n",
    "        print(\"Miau!\")\n",
    "    def mover(self):\n",
    "        print(\"Camina sigilosamente con 4 patas\")"
   ]
  },
  {
   "cell_type": "markdown",
   "id": "e1e19825",
   "metadata": {},
   "source": [
    "#### Hemos definido tres clases de métodos:\n",
    "- Heredados directamente de la clase padre: descripcion()\n",
    "- Heredados de la clase padre y modificados: comunicar() y mover()\n",
    "- Creados en la clase hija: morder()"
   ]
  },
  {
   "cell_type": "code",
   "execution_count": 24,
   "id": "5869842b",
   "metadata": {},
   "outputs": [
    {
     "name": "stdout",
     "output_type": "stream",
     "text": [
      "Miau!\n",
      "Guau!\n",
      "Soy un Animal de subclase Gato y tengo 8 años\n",
      "Soy un Animal de subclase Perro y tengo 12 años\n",
      "morder!\n"
     ]
    }
   ],
   "source": [
    "# Vamos a crear ahora los objetos correspondientes a cada clase, y utilizarlos\n",
    "miGato = Gato('mamífero', 8)\n",
    "miPerro = Perro('mamífero', 12)\n",
    "\n",
    "miGato.comunicar() # Miau!\n",
    "miPerro.comunicar() # Guau!\n",
    "\n",
    "miGato.descripcion()  # Soy un Animal de subclase Gato y tengo 8 años\n",
    "miPerro.descripcion() # Soy un Animal de subclase Perro y tengo 12 años\n",
    "\n",
    "miPerro.morder() # morder!"
   ]
  },
  {
   "cell_type": "markdown",
   "id": "0743bbaa",
   "metadata": {},
   "source": [
    "## Función super()\n",
    "### Nos permite acceder a los métodos de la clase padre desde la clase hija."
   ]
  },
  {
   "cell_type": "markdown",
   "id": "b85e4054",
   "metadata": {},
   "source": [
    "Si queremos por ejemplo que nuestro Gato tenga un parámetro adicional en el constructor, como podría ser el dueño:\n",
    " - Opción 1: crear un nuevo \\__init__ y con todas las variables (incluyendo la nueva).\n",
    " - Opción 2: usar super() para llamar al \\__init__ de la clase padre, y sólo añadir el nuevo parámetro."
   ]
  },
  {
   "cell_type": "code",
   "execution_count": 30,
   "id": "674f6491",
   "metadata": {},
   "outputs": [],
   "source": [
    "class Gato(Animal):\n",
    "    def __init__(self, especie, edad, dueño):\n",
    "        # Opción 1\n",
    "        # self.especie = especie\n",
    "        # self.edad = edad\n",
    "        # self.dueño = dueño\n",
    "\n",
    "        # Opción 2\n",
    "        super().__init__(especie, edad)\n",
    "        self.dueño = dueño"
   ]
  },
  {
   "cell_type": "code",
   "execution_count": 32,
   "id": "bdfcb4d4",
   "metadata": {},
   "outputs": [
    {
     "name": "stdout",
     "output_type": "stream",
     "text": [
      "mamífero\n",
      "6\n",
      "Pedro\n"
     ]
    }
   ],
   "source": [
    "miGato = Gato('mamífero',6,'Pedro')\n",
    "print(miGato.especie)\n",
    "print(miGato.edad)\n",
    "print(miGato.dueño)"
   ]
  },
  {
   "cell_type": "markdown",
   "id": "c37a50b8",
   "metadata": {},
   "source": [
    "## Herencia múltiple\n",
    "### Permite aprovechar el comportamiento de dos clases en el seno de una única.\n",
    "### En este caso, una clase hereda de varias clases padre.\n",
    "### Y si si llamo a un método que todas las clases tienen en común ¿a cuál se llama?"
   ]
  },
  {
   "cell_type": "code",
   "execution_count": 33,
   "id": "302c41e4",
   "metadata": {},
   "outputs": [
    {
     "name": "stdout",
     "output_type": "stream",
     "text": [
      "(<class '__main__.Clase3'>, <class '__main__.Clase1'>, <class '__main__.Clase2'>, <class 'object'>)\n"
     ]
    }
   ],
   "source": [
    "# Para saberlo se usa el método '__mro__' -> Method Order Resolution\n",
    "class Clase1:\n",
    "    pass\n",
    "class Clase2:\n",
    "    pass\n",
    "class Clase3(Clase1, Clase2):\n",
    "    pass\n",
    "\n",
    "print(Clase3.__mro__)"
   ]
  },
  {
   "cell_type": "code",
   "execution_count": 34,
   "id": "c97f3cf2",
   "metadata": {},
   "outputs": [],
   "source": [
    "# Vemos que comienza la búsqueda en la propia clase, y va subiendo a las clases padre \n",
    "# en el orden con el que se han colocado los argumentos padre en la creación de la clase hija.\n",
    "# Vemos al final la clase 'object'. Todas las clases en Python heredan de una clase genérica object."
   ]
  },
  {
   "cell_type": "markdown",
   "id": "b7f2ea6a",
   "metadata": {},
   "source": [
    "## Ejercicio 1:\n",
    "### Crear una clase padre Persona (que contenga como atributos: identificacion (DNI), nombre, apellido), y crear una clase Alumno que extienda a Persona y agregue un nuevo atributo de instancia 'ciudad'.\n",
    "### Crear dos objetos de clase Alumno y mostrar sus atributos."
   ]
  },
  {
   "cell_type": "code",
   "execution_count": null,
   "id": "d5ea2a67",
   "metadata": {},
   "outputs": [],
   "source": [
    "class Persona:\n",
    "    def __init__(self, DNI, nombre, apellido):\n",
    "        self.DNI = DNI\n",
    "        self.nombre = nombre\n",
    "        self.apellido = apellido\n",
    "\n",
    "class Alumno(Persona):\n",
    "    def city(self, ciudad):\n",
    "        self.ciudad = ciudad\n"
   ]
  },
  {
   "cell_type": "markdown",
   "id": "78d4b654",
   "metadata": {},
   "source": [
    "## Ejercicio 2, juego:\n",
    "- Importar la librería random para trabajar con datos aleatorios\n",
    "- Definir la clase Personaje que más tarde va a ser heredada por la clase Jugador() y Enemigo(). En la clase Personaje() se define el constructor \\__init__ y se inicializan sus parámetros (nombre='', salud=1, saludMax=1), también se define el método hacerDaño(objetoEnemigo) que nos dará un valor aleatorio del daño provocado en el ataque. Definir el método de instancia hacerDaño(objetoEnemigo) que obtiene un valor aleatorio del daño provocado en el ataque (entre 0 y 5) y calcula la nueva salud del enemigo restándole el daño a la salud del enemigo antes del ataque. El método devuelve un valor booleano que indica si la salud del enemigo es <= 0.\n",
    "- Se crea la clase Enemigo que hereda la clase Personaje, con un constructor que inicializa el nombre del enemigo (='Orco') y la salud (entero aleatorio entre 6 y 10). Tiene el método 'estadoEnemigo' que devuelve el estado del enemigo.\n",
    "- Se crea la clase Jugador que hereda la clase Personaje:\n",
    "    - Su constructor inicializa el actitud='normal', la salud=10 y la salud máxima del jugador saludMax=10\n",
    "    - Tiene el método de instancia estadoJugador que nos devuelve la salud del jugador.\n",
    "    - Tiene el método cansancio: cuando este método es llamado, se despliega un mensaje de \"siente cansancio\" y la propiedad salud del jugador bajará 5 puntos. Se cambia la actitud a 'lucha'\n",
    "    - Tiene el método atacar: cuando este método es llamado, se plantea una condición: si la actitud del jugador es distinta de \"lucha\", se muestra un mensaje y el método cansancio() es llamado. De lo contrario se plantea otra condición: si el método hacerDaño() es True, el enemigo es destruido y la actitud cambia a normal. De lo contrario, en caso de tener suerte la salud y salud_maxima suben a 1, y el método ataque_enemigo es llamado.\n",
    "    - método ataque_enemigo: este método es llamado cuando el Jugador ataca al enemigo, pero no lo mata. Entonces el enemigo responde y ataca al jugador, que es lo que hace este método. Si el enemigo mata al jugador, se imprime mensaje por pantalla.\n",
    "- Por último se crean el objeto 'jugador1' de clase Jugador y el objeto 'enemigo1' de clase Enemigo, y se crea un bucle para jugar mientras la salud del jugador sea > 0."
   ]
  },
  {
   "cell_type": "code",
   "execution_count": 3,
   "id": "f84278f5",
   "metadata": {},
   "outputs": [
    {
     "name": "stdout",
     "output_type": "stream",
     "text": [
      "erick golpea con fuerza pero sin resultados, debe descansar.\n",
      "erick siente cansancio.\n",
      "Orco - salud: 6/10\n",
      "erick - salud: 5/10\n",
      "erick acierta un golpe a Orco!\n",
      "erick evade el ataque de Orco\n",
      "erick - salud: 5/10\n",
      "erick - salud: 5/10\n",
      "Orco - salud: 3/10\n",
      "erick acierta un golpe a Orco!\n",
      "Orco acierta un golpe a erick!\n",
      "erick fue sacrificado por Orco!!!\n"
     ]
    }
   ],
   "source": [
    "from random import randint\n",
    "class Personaje:\n",
    "    def __init__(self):\n",
    "        self.nombre = \"\"\n",
    "        self.salud = 1\n",
    "        self.salud_max = 10\n",
    "\n",
    "    def hacerDaño(self, objetoEnemigo):\n",
    "        # El objeto que llama a este método es el que hace daño\n",
    "        # al objetoEnemigo (ogro o jugador).\n",
    "        \n",
    "        daño = randint(0, 5)\n",
    "        objetoEnemigo.salud = objetoEnemigo.salud - daño\n",
    "        if daño == 0:\n",
    "            print (f\"{objetoEnemigo.nombre} evade el ataque de {self.nombre}\")\n",
    "        else:\n",
    "            print (f\"{self.nombre} acierta un golpe a {objetoEnemigo.nombre}!\")\n",
    "        return objetoEnemigo.salud <= 0\n",
    "\n",
    "class Enemigo(Personaje):\n",
    "    def __init__(self):\n",
    "        Personaje.__init__(self)\n",
    "        self.nombre = 'Orco'\n",
    "        self.salud = randint(6, 10)\n",
    "    def estadoEnemigo(self):\n",
    "        print (f\"{self.nombre} - salud: {self.salud}/{self.salud_max}\")\n",
    "\n",
    "class Jugador(Personaje):\n",
    "    def __init__(self):\n",
    "        Personaje.__init__(self)\n",
    "        self.actitud = 'normal'\n",
    "        self.salud = 10\n",
    "        self.salud_max = 10        \n",
    "    def estadoJugador(self):\n",
    "        print (f\"{self.nombre} - salud: {self.salud}/{self.salud_max}\")\n",
    "    def cansancio(self):\n",
    "        print (f\"{self.nombre} siente cansancio.\")\n",
    "        self.salud = self.salud - 5\n",
    "        if (self.salud <= 0): print (f\"{self.nombre} ha muerto.\")\n",
    "        self.actitud = 'lucha'\n",
    "    def atacar(self, enemigo):\n",
    "        if self.actitud != 'lucha':\n",
    "            print (f\"{self.nombre} golpea con fuerza pero sin resultados, debe descansar.\")\n",
    "            self.cansancio()\n",
    "        elif self.hacerDaño(enemigo):\n",
    "            print (f\"{self.nombre} aniquila a {enemigo.nombre}!\")\n",
    "            self.actitud = 'normal'                \n",
    "        else:\n",
    "            if randint(0, 6) < 3:\n",
    "                self.salud = self.salud + 1\n",
    "                self.salud_max = self.salud_max + 1\n",
    "                print (f\"salud de {self.salud}, {self.nombre} se siente mas fuerte!\")\n",
    "                \n",
    "            self.ataque_enemigo(enemigo)\n",
    "    def ataque_enemigo(self, enemigo):\n",
    "        if enemigo.hacerDaño(self):\n",
    "            print (f\"{self.nombre} fue sacrificado por {enemigo.nombre}!!!\")\n",
    "\n",
    "jugador1 = Jugador()\n",
    "enemigo1 = Enemigo()\n",
    "jugador1.nombre = input(\"Introduzca el nombre del jugador: \")\n",
    "accionesValidas = [\"estadoJ\", \"estadoE\", \"cansancio\", \"atacar\"]\n",
    "while(jugador1.salud > 0):\n",
    "    accion = input(\"Introduzca la acción que quiere ejecutar (estadoJ, estadoE, \\\n",
    "                   cansancio o atacar), * para terminar: \")    \n",
    "    if accion == '*':\n",
    "        break\n",
    "    elif accion in accionesValidas:\n",
    "        if accion == 'estadoJ':\n",
    "            jugador1.estadoJugador()\n",
    "        elif accion == 'estadoE':\n",
    "            enemigo1.estadoEnemigo()\n",
    "        elif accion == 'cansancio':\n",
    "            jugador1.cansancio()\n",
    "        else:\n",
    "            jugador1.atacar(enemigo1)\n",
    "            \n",
    "    else:\n",
    "        print (f\"{jugador1.nombre} no se entiende la accion.\")  "
   ]
  }
 ],
 "metadata": {
  "kernelspec": {
   "display_name": "Python 3",
   "language": "python",
   "name": "python3"
  },
  "language_info": {
   "codemirror_mode": {
    "name": "ipython",
    "version": 3
   },
   "file_extension": ".py",
   "mimetype": "text/x-python",
   "name": "python",
   "nbconvert_exporter": "python",
   "pygments_lexer": "ipython3",
   "version": "3.12.5"
  }
 },
 "nbformat": 4,
 "nbformat_minor": 5
}
